{
  "nbformat": 4,
  "nbformat_minor": 0,
  "metadata": {
    "colab": {
      "provenance": [],
      "authorship_tag": "ABX9TyOye62W5LiF558ZeeCooYsv",
      "include_colab_link": true
    },
    "kernelspec": {
      "name": "python3",
      "display_name": "Python 3"
    },
    "language_info": {
      "name": "python"
    }
  },
  "cells": [
    {
      "cell_type": "markdown",
      "metadata": {
        "id": "view-in-github",
        "colab_type": "text"
      },
      "source": [
        "<a href=\"https://colab.research.google.com/github/adityaksharma181/ML_course_MNIT/blob/main/Assignment2_Aditya_2024pph5412_function.ipynb\" target=\"_parent\"><img src=\"https://colab.research.google.com/assets/colab-badge.svg\" alt=\"Open In Colab\"/></a>"
      ]
    },
    {
      "cell_type": "code",
      "execution_count": 14,
      "metadata": {
        "colab": {
          "base_uri": "https://localhost:8080/"
        },
        "id": "5Y9OKogmWR77",
        "outputId": "38e1503b-84c2-4571-c576-a28dd8e984f6"
      },
      "outputs": [
        {
          "output_type": "stream",
          "name": "stdout",
          "text": [
            "flux of the particle is:  47.61904761904762 counts/cm2\n"
          ]
        }
      ],
      "source": [
        "'''\n",
        "Problem 1: Calculating Particle Flux from Count rate\n",
        "A space radiation detector records 500 counts per second over an area of 15 cm2\n",
        "The detector efficiency is 70%. What is the particle flux?\n",
        "'''\n",
        "\n",
        "# define function\n",
        "def fn_flux(counts,efficiency, area):\n",
        "  flux = counts / efficiency / area\n",
        "  return flux\n",
        "\n",
        "counts = 500\n",
        "efficiency = 0.7\n",
        "area = 15\n",
        "print(\"flux of the particle is: \",fn_flux(counts,efficiency, area),\"counts/cm2\")"
      ]
    },
    {
      "cell_type": "code",
      "source": [
        "'''\n",
        "Problem 2: Absorbed Dose from Energy Deposi-\n",
        "tion\n",
        "A 1 cm3 cube of tissue in space absorbs 3 × 10−4 J of energy due to incident\n",
        "protons. Calculate the absorbed dose in Gray (Gy). where density of tissue is\n",
        "1g/cm3\n",
        "'''\n",
        "\n",
        "def fn_dose(dose, area):\n",
        "    calc_dose = dose / area\n",
        "    return calc_dose\n",
        "\n",
        "dose = 3e-4\n",
        "area = 1\n",
        "print(\"absorbed dose is: \",fn_dose(dose, area),\"J/cm2\")"
      ],
      "metadata": {
        "colab": {
          "base_uri": "https://localhost:8080/"
        },
        "id": "9Pm532PYWoKQ",
        "outputId": "4296d901-a501-4a59-e525-746e9b70bf50"
      },
      "execution_count": 15,
      "outputs": [
        {
          "output_type": "stream",
          "name": "stdout",
          "text": [
            "absorbed dose is:  0.0003 J/cm2\n"
          ]
        }
      ]
    },
    {
      "cell_type": "code",
      "source": [
        "'''\n",
        "Problem 3: Equivalent Dose Using Radiation Weighting Factor\n",
        "\n",
        "If the absorbed dose from alpha particles is 0.2 Gy, and the radiation weighting\n",
        "factor (wR) for alpha particles is 20, find the equivalent dose in Sievert.\n",
        "'''\n",
        "\n",
        "def fn_abdose(abdose, Wr):\n",
        "  calc_abdose = abdose * Wr\n",
        "  return calc_abdose\n",
        "\n",
        "abdose = 0.2\n",
        "Wr = 20\n",
        "print(\"Equivalent dose in Sievert is: \",fn_abdose(abdose, Wr),\"Sv\")"
      ],
      "metadata": {
        "colab": {
          "base_uri": "https://localhost:8080/"
        },
        "id": "McjujtdbXa_9",
        "outputId": "3e57e80c-6f39-48fc-f08e-fb9699c91c65"
      },
      "execution_count": 16,
      "outputs": [
        {
          "output_type": "stream",
          "name": "stdout",
          "text": [
            "Equivalent dose in Sievert is:  4.0 Sv\n"
          ]
        }
      ]
    },
    {
      "cell_type": "code",
      "source": [
        "'''\n",
        "Problem 4: LET (Linear Energy Transfer) from Energy Loss and Path Length\n",
        "A heavy ion loses 6 MeV of energy while passing through a 2 μm thick silicon\n",
        "layer. Calculate LET in keV/μm.\n",
        "'''\n",
        "\n",
        "def fn_let(eloss,plength):\n",
        "  calc_let = eloss / plength\n",
        "  return calc_let\n",
        "\n",
        "eloss = 6e+3\n",
        "plength = 2\n",
        "print(\"LET is: \",fn_let(eloss,plength),\"keV/μm\")"
      ],
      "metadata": {
        "colab": {
          "base_uri": "https://localhost:8080/"
        },
        "id": "HN_OWbtSazjH",
        "outputId": "b9966dd7-ad94-45c6-b51e-a3fcaba808c8"
      },
      "execution_count": 17,
      "outputs": [
        {
          "output_type": "stream",
          "name": "stdout",
          "text": [
            "LET is:  3000.0 keV/μm\n"
          ]
        }
      ]
    },
    {
      "cell_type": "code",
      "source": [
        "'''\n",
        "Problem 5: Spacecraft Shielding Effect\n",
        "An unshielded detector records 0.5 Gy absorbed dose. After adding aluminum\n",
        "shielding, the dose reduces to 0.2 Gy. What is the shielding effectiveness in %?\n",
        "'''\n",
        "\n",
        "def fn_eff_dose():\n",
        ""
      ],
      "metadata": {
        "id": "zowyl7OHbd3S"
      },
      "execution_count": null,
      "outputs": []
    },
    {
      "cell_type": "code",
      "source": [
        "'''\n",
        "Problem 6: Flux from space radiation environment\n",
        "A space craft is exposed to a solar particle event with a proton flux 104 particles/cm2.s. How many protons will hit a 1m2 area over 10 minutes?\n",
        "'''\n",
        "\n",
        "def fn_flux():\n",
        "  calc_flux = flux\n",
        "  return\n",
        "\n",
        "flux = 104 #particles/cm2.s\n",
        "area = 1 #m2\n",
        "time = 10 #minutes\n",
        "print(fn_flux())"
      ],
      "metadata": {
        "id": "UAy-PVEtcp6U"
      },
      "execution_count": null,
      "outputs": []
    },
    {
      "cell_type": "code",
      "source": [
        "\n",
        "'''\n",
        "problem 7: Conductivity and Resistivity in Depletion region\n",
        "Assuming Mobility values for electron and holes in silicon at room temperature:\n",
        "μn= 1450 cm2/V.cm μp= 380 cm2/V.cm In the depletion region, assume carrier\n",
        "concentration is dominated by thermal electrons and holes: n = p = 1 × 10^10\n",
        "find conductivity and resistivity in depletion region.\n",
        "'''"
      ],
      "metadata": {
        "id": "6YGaBYZscqPh"
      },
      "execution_count": null,
      "outputs": []
    },
    {
      "cell_type": "code",
      "source": [
        "'''\n",
        "Problem 8: Charge carrier mobility from conductivity\n",
        "\n",
        "Let conductivity is 1 × 10−3 S/cm, With known doping ND = 1 × 10^12cm−3\n",
        ", Estimate the electron mobility μn, assuming full ionization and n = ND\n",
        "'''"
      ],
      "metadata": {
        "id": "CtGQVnlacqmf"
      },
      "execution_count": null,
      "outputs": []
    },
    {
      "cell_type": "code",
      "source": [
        "'''\n",
        "Problem 9: Junction capacitance\n",
        "A reverse-biased silicon p\n",
        "+n- is fabricated on n-type silicon with depletion layer\n",
        "\n",
        "width 21.23 μm, find the junction capacitance\n",
        "'''"
      ],
      "metadata": {
        "id": "Oeu4F3DfdCgr"
      },
      "execution_count": null,
      "outputs": []
    },
    {
      "cell_type": "code",
      "source": [
        "'''\n",
        "Problem 10: Electric field of a charged particle\n",
        "A chared particle of charge 58.5×10−19C, is at any point in free space. Calculate\n",
        "the field produced by this charged particle at distance of 0.5 cm from its position.\n",
        "'''"
      ],
      "metadata": {
        "id": "uQ5dTJ9udB6S"
      },
      "execution_count": null,
      "outputs": []
    }
  ]
}