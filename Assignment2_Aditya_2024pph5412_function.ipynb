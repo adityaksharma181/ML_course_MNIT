{
  "nbformat": 4,
  "nbformat_minor": 0,
  "metadata": {
    "colab": {
      "provenance": [],
      "authorship_tag": "ABX9TyOQAZVFErmXOoeoLsZNIFKB",
      "include_colab_link": true
    },
    "kernelspec": {
      "name": "python3",
      "display_name": "Python 3"
    },
    "language_info": {
      "name": "python"
    }
  },
  "cells": [
    {
      "cell_type": "markdown",
      "metadata": {
        "id": "view-in-github",
        "colab_type": "text"
      },
      "source": [
        "<a href=\"https://colab.research.google.com/github/adityaksharma181/ML_course_MNIT/blob/main/Assignment2_Aditya_2024pph5412_function.ipynb\" target=\"_parent\"><img src=\"https://colab.research.google.com/assets/colab-badge.svg\" alt=\"Open In Colab\"/></a>"
      ]
    },
    {
      "cell_type": "code",
      "execution_count": 9,
      "metadata": {
        "colab": {
          "base_uri": "https://localhost:8080/"
        },
        "id": "5Y9OKogmWR77",
        "outputId": "2429fb87-f8de-4334-bc7d-2522a1623d72"
      },
      "outputs": [
        {
          "output_type": "stream",
          "name": "stdout",
          "text": [
            "flux of the particle is:  47.61904761904762 counts/cm2\n"
          ]
        }
      ],
      "source": [
        "'''\n",
        "Problem 1: Calculating Particle Flux from Count rate\n",
        "A space radiation detector records 500 counts per second over an area of 15 cm2\n",
        "The detector efficiency is 70%. What is the particle flux?\n",
        "'''\n",
        "\n",
        "# define function\n",
        "def fn_flux():\n",
        "  flux = counts / (efficiency * area )\n",
        "  return flux\n",
        "\n",
        "counts = 500\n",
        "efficiency = 0.7\n",
        "area = 15\n",
        "print(\"flux of the particle is: \",fn_flux(),\"counts/cm2\")"
      ]
    },
    {
      "cell_type": "code",
      "source": [
        "'''\n",
        "Problem 2: Absorbed Dose from Energy Deposition\n",
        "A 1 cm3 cube of tissue in space absorbs 3 × 10−4 J of energy due to incident\n",
        "protons. Calculate the absorbed dose in Gray (Gy). where density of tissue is\n",
        "1g/cm3\n",
        "'''\n",
        "\n",
        "def fn_dose(dose, area):\n",
        "    calc_dose = dose / area\n",
        "    return calc_dose\n",
        "\n",
        "dose = 3e-4\n",
        "area = 1\n",
        "print(\"absorbed dose is: \",fn_dose(dose, area),\"J/cm2\")"
      ],
      "metadata": {
        "colab": {
          "base_uri": "https://localhost:8080/"
        },
        "id": "9Pm532PYWoKQ",
        "outputId": "bb444952-649b-4439-fd03-33a081a23fef"
      },
      "execution_count": 2,
      "outputs": [
        {
          "output_type": "stream",
          "name": "stdout",
          "text": [
            "absorbed dose is:  0.0003 J/cm2\n"
          ]
        }
      ]
    },
    {
      "cell_type": "code",
      "source": [
        "'''\n",
        "Problem 3: Equivalent Dose Using Radiation Weighting Factor\n",
        "\n",
        "If the absorbed dose from alpha particles is 0.2 Gy, and the radiation weighting\n",
        "factor (wR) for alpha particles is 20, find the equivalent dose in Sievert.\n",
        "'''\n",
        "\n",
        "def fn_abdose(abdose, Wr):\n",
        "  calc_abdose = abdose * Wr\n",
        "  return calc_abdose\n",
        "\n",
        "abdose = 0.2\n",
        "Wr = 20\n",
        "print(\"Equivalent dose in Sievert is: \",fn_abdose(abdose, Wr),\"Sv\")"
      ],
      "metadata": {
        "colab": {
          "base_uri": "https://localhost:8080/"
        },
        "id": "McjujtdbXa_9",
        "outputId": "d2a0ffa6-d16c-4703-f270-0f85d46edbeb"
      },
      "execution_count": 3,
      "outputs": [
        {
          "output_type": "stream",
          "name": "stdout",
          "text": [
            "Equivalent dose in Sievert is:  4.0 Sv\n"
          ]
        }
      ]
    },
    {
      "cell_type": "code",
      "source": [
        "'''\n",
        "Problem 4: LET (Linear Energy Transfer) from Energy Loss and Path Length\n",
        "A heavy ion loses 6 MeV of energy while passing through a 2 μm thick silicon\n",
        "layer. Calculate LET in keV/μm.\n",
        "'''\n",
        "\n",
        "def fn_let(eloss,plength):\n",
        "  calc_let = eloss / plength\n",
        "  return calc_let\n",
        "\n",
        "eloss = 6e+3\n",
        "plength = 2\n",
        "print(\"LET is: \",fn_let(eloss,plength),\"keV/μm\")"
      ],
      "metadata": {
        "colab": {
          "base_uri": "https://localhost:8080/"
        },
        "id": "HN_OWbtSazjH",
        "outputId": "67202040-5d17-46e9-d68e-4fff1a751213"
      },
      "execution_count": 4,
      "outputs": [
        {
          "output_type": "stream",
          "name": "stdout",
          "text": [
            "LET is:  3000.0 keV/μm\n"
          ]
        }
      ]
    },
    {
      "cell_type": "code",
      "source": [
        "'''\n",
        "Problem 5: Spacecraft Shielding Effect\n",
        "An unshielded detector records 0.5 Gy absorbed dose. After adding aluminum\n",
        "shielding, the dose reduces to 0.2 Gy. What is the shielding effectiveness in %?\n",
        "'''\n",
        "\n",
        "def fn_eff_dose():\n"
      ],
      "metadata": {
        "id": "zowyl7OHbd3S"
      },
      "execution_count": null,
      "outputs": []
    },
    {
      "cell_type": "code",
      "source": [
        "'''\n",
        "Problem 6: Flux from space radiation environment\n",
        "A spacecraft is exposed to a solar particle event with a proton flux 104 particles/cm2.s. How many protons will hit a 1m2 area over 10 minutes?\n",
        "'''\n",
        "\n",
        "def fn_flux():\n",
        "  calc_flux = flux * 360 * 1e+4\n",
        "  return calc_flux\n",
        "\n",
        "flux = 104 #particles/cm2.s\n",
        "area = 1 #m2\n",
        "time = 10 #minutes\n",
        "print(fn_flux())"
      ],
      "metadata": {
        "id": "UAy-PVEtcp6U",
        "colab": {
          "base_uri": "https://localhost:8080/"
        },
        "outputId": "5610e90f-be25-42f3-b8b0-0917f1fd7d7e"
      },
      "execution_count": 5,
      "outputs": [
        {
          "output_type": "stream",
          "name": "stdout",
          "text": [
            "374400000.0\n"
          ]
        }
      ]
    },
    {
      "cell_type": "code",
      "source": [
        "\n",
        "'''\n",
        "problem 7: Conductivity and Resistivity in Depletion region\n",
        "Assuming Mobility values for electron and holes in silicon at room temperature:\n",
        "μn= 1450 cm2/V.cm , μp= 380 cm2/V.cm In the depletion region, assume carrier\n",
        "concentration is dominated by thermal electrons and holes: n = p = 1 × 10^10\n",
        "find conductivity and resistivity in depletion region.\n",
        "'''\n",
        "def fn_depletion():\n",
        "  conductivity = 1.6e-16 * ((n * un) + (p * up))\n",
        "  return conductivity\n",
        "\n",
        "n = 1e+10\n",
        "un = 1450\n",
        "p = 1e+10\n",
        "up = 380\n",
        "print(\"conductivity in depletion region is: \",fn_depletion(),\"S/cm\")\n",
        "print(\"resistivity in depletion region is: \",1/fn_depletion(),\"ohm.cm\")\n"
      ],
      "metadata": {
        "id": "6YGaBYZscqPh",
        "colab": {
          "base_uri": "https://localhost:8080/"
        },
        "outputId": "95e6e9b1-2c9c-4cce-8a3f-d7c85fc59f14"
      },
      "execution_count": 8,
      "outputs": [
        {
          "output_type": "stream",
          "name": "stdout",
          "text": [
            "conductivity in depletion region is:  0.002928 S/cm\n",
            "resistivity in depletion region is:  341.53005464480873 ohm.cm\n"
          ]
        }
      ]
    },
    {
      "cell_type": "code",
      "source": [
        "'''\n",
        "Problem 8: Charge carrier mobility from conductivity\n",
        "\n",
        "Let conductivity is 1 × 10−3 S/cm, With known doping ND = 1 × 10^12cm−3,\n",
        "Estimate the electron mobility μn, assuming full ionization and n = ND\n",
        "'''\n",
        "\n",
        "def fn_mobility():\n",
        "  emobility = conductivity / ( doping * 1.6e-19)\n",
        "  return emobility\n",
        "\n",
        "conductivity = 1e-3\n",
        "doping = 1e+12\n",
        "print(\"electron mobility is: \",fn_mobility(),\"cm2/V\")"
      ],
      "metadata": {
        "id": "CtGQVnlacqmf",
        "colab": {
          "base_uri": "https://localhost:8080/"
        },
        "outputId": "d70e8707-0b4e-4065-d074-071d0a017bb4"
      },
      "execution_count": 11,
      "outputs": [
        {
          "output_type": "stream",
          "name": "stdout",
          "text": [
            "electron mobility is:  6250.0 cm2/V\n"
          ]
        }
      ]
    },
    {
      "cell_type": "code",
      "source": [
        "'''\n",
        "Problem 9: Junction capacitance\n",
        "A reverse-biased silicon p+n- is fabricated on n-type silicon with depletion layer\n",
        "width 21.23 μm, find the junction capacitance\n",
        "'''\n",
        "\n",
        "def fn_cap():\n",
        "  capacitance = epsilon_rel / width\n",
        "  return capacitance\n",
        "\n",
        "width = 21.23e-2\n",
        "epsilon_rel = 11.7 * 8.85e-12\n",
        "print(\"junction capacitance is: \",fn_cap(),\"F\")\n"
      ],
      "metadata": {
        "id": "Oeu4F3DfdCgr",
        "colab": {
          "base_uri": "https://localhost:8080/"
        },
        "outputId": "b49a3e3b-6d9e-4ea0-dbce-8c05740931b6"
      },
      "execution_count": 15,
      "outputs": [
        {
          "output_type": "stream",
          "name": "stdout",
          "text": [
            "junction capacitance is:  4.877296278850684e-10 F\n"
          ]
        }
      ]
    },
    {
      "cell_type": "code",
      "source": [
        "'''\n",
        "Problem 10: Electric field of a charged particle\n",
        "A chared particle of charge 58.5×10−19C, is at any point in free space. Calculate\n",
        "the field produced by this charged particle at distance of 0.5 cm from its position.\n",
        "'''\n",
        "\n",
        "def fn_field():\n",
        "  field = charge / ( k * dist)\n",
        "  return field\n",
        "\n",
        "charge = 58.5e-19\n",
        "dist = 0.5e-2\n",
        "k = 4 * 3.14 * 8.85e-12\n",
        "print(\"electric field is: \",fn_field(),\"V/m\")"
      ],
      "metadata": {
        "id": "uQ5dTJ9udB6S",
        "colab": {
          "base_uri": "https://localhost:8080/"
        },
        "outputId": "7957eb6d-440a-4d44-bd08-4cff0bf12106"
      },
      "execution_count": 13,
      "outputs": [
        {
          "output_type": "stream",
          "name": "stdout",
          "text": [
            "electric field is:  1.0525747597970417e-05 V/m\n"
          ]
        }
      ]
    },
    {
      "cell_type": "code",
      "source": [],
      "metadata": {
        "id": "Oim9v8K8aWHG"
      },
      "execution_count": null,
      "outputs": []
    }
  ]
}