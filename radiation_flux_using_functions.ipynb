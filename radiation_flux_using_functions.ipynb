{
  "nbformat": 4,
  "nbformat_minor": 0,
  "metadata": {
    "colab": {
      "provenance": [],
      "authorship_tag": "ABX9TyOp1LorCXvoDfF6moB8DlGT",
      "include_colab_link": true
    },
    "kernelspec": {
      "name": "python3",
      "display_name": "Python 3"
    },
    "language_info": {
      "name": "python"
    }
  },
  "cells": [
    {
      "cell_type": "markdown",
      "metadata": {
        "id": "view-in-github",
        "colab_type": "text"
      },
      "source": [
        "<a href=\"https://colab.research.google.com/github/adityaksharma181/ML_course_MNIT/blob/main/radiation_flux_using_functions.ipynb\" target=\"_parent\"><img src=\"https://colab.research.google.com/assets/colab-badge.svg\" alt=\"Open In Colab\"/></a>"
      ]
    },
    {
      "cell_type": "code",
      "execution_count": 13,
      "metadata": {
        "colab": {
          "base_uri": "https://localhost:8080/"
        },
        "id": "bh3aWsxQzb6G",
        "outputId": "42ff3cff-d59a-4841-8f8d-8fcf58ff1698"
      },
      "outputs": [
        {
          "output_type": "stream",
          "name": "stdout",
          "text": [
            "counts 600\n",
            "efficiency 0.8\n",
            "Area 10\n",
            "75.0\n"
          ]
        }
      ],
      "source": [
        "def flux(counts,efficiency, area):\n",
        "  fluxes = counts / efficiency / area\n",
        "  return fluxes\n",
        "\n",
        "counts = float(input(\"counts \"))\n",
        "efficiency = float(input(\"efficiency \"))\n",
        "area = float(input(\"Area \"))\n",
        "print(flux(counts,efficiency, area))"
      ]
    },
    {
      "cell_type": "code",
      "source": [
        "def fn_dose(dose, area):\n",
        "    calc_dose = dose / area\n",
        "    return calc_dose\n",
        "\n",
        "dose = float(input(\"dose \"))\n",
        "area = float(input(\"area \"))\n",
        "print(fn_dose(dose, area))"
      ],
      "metadata": {
        "colab": {
          "base_uri": "https://localhost:8080/"
        },
        "id": "t0xVcTMq5ZEq",
        "outputId": "8b90bfd5-739e-4acf-c4da-f1c29388d151"
      },
      "execution_count": 15,
      "outputs": [
        {
          "output_type": "stream",
          "name": "stdout",
          "text": [
            "dose 0.000024\n",
            "area 10\n",
            "2.4e-06\n"
          ]
        }
      ]
    },
    {
      "cell_type": "code",
      "source": [
        "def fn_abdose(abdose, Wr):\n",
        "  calc_abdose = abdose * Wr\n",
        "  return calc_abdose\n",
        "\n",
        "abdose = float(input(\"absorbed dose \"))\n",
        "Wr = float(input(\"weighted ratio\"))\n",
        "print(fn_abdose(abdose, Wr))"
      ],
      "metadata": {
        "colab": {
          "base_uri": "https://localhost:8080/"
        },
        "id": "xuRxxppZ8ies",
        "outputId": "8aea6574-f514-4394-90c8-ef2f03390f50"
      },
      "execution_count": 19,
      "outputs": [
        {
          "output_type": "stream",
          "name": "stdout",
          "text": [
            "absorbed dose 0.1\n",
            "weighted ratio20\n",
            "2.0\n"
          ]
        }
      ]
    },
    {
      "cell_type": "code",
      "source": [],
      "metadata": {
        "id": "-9iud6W39Plo"
      },
      "execution_count": null,
      "outputs": []
    }
  ]
}