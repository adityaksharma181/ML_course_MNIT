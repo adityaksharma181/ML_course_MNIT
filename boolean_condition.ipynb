{
  "nbformat": 4,
  "nbformat_minor": 0,
  "metadata": {
    "colab": {
      "provenance": [],
      "authorship_tag": "ABX9TyM+AgbIXEw+DPpRtQ/xnAwj",
      "include_colab_link": true
    },
    "kernelspec": {
      "name": "python3",
      "display_name": "Python 3"
    },
    "language_info": {
      "name": "python"
    }
  },
  "cells": [
    {
      "cell_type": "markdown",
      "metadata": {
        "id": "view-in-github",
        "colab_type": "text"
      },
      "source": [
        "<a href=\"https://colab.research.google.com/github/adityaksharma181/ML_course_MNIT/blob/main/boolean_condition.ipynb\" target=\"_parent\"><img src=\"https://colab.research.google.com/assets/colab-badge.svg\" alt=\"Open In Colab\"/></a>"
      ]
    },
    {
      "cell_type": "code",
      "execution_count": 1,
      "metadata": {
        "colab": {
          "base_uri": "https://localhost:8080/"
        },
        "id": "1KfCx1xqGRkQ",
        "outputId": "df2880dd-81ae-4110-b095-f9e2ac3622bc"
      },
      "outputs": [
        {
          "output_type": "stream",
          "name": "stdout",
          "text": [
            "591\n"
          ]
        }
      ],
      "source": [
        "print(45+546)"
      ]
    },
    {
      "cell_type": "code",
      "source": [
        "print(473%2)"
      ],
      "metadata": {
        "colab": {
          "base_uri": "https://localhost:8080/"
        },
        "id": "RBKdJZtLIJoh",
        "outputId": "f499b4d1-1ee2-4eb5-c034-5266e7b2abf6"
      },
      "execution_count": 2,
      "outputs": [
        {
          "output_type": "stream",
          "name": "stdout",
          "text": [
            "1\n"
          ]
        }
      ]
    },
    {
      "cell_type": "code",
      "source": [
        "print(\"hehehehhe\")"
      ],
      "metadata": {
        "colab": {
          "base_uri": "https://localhost:8080/"
        },
        "id": "BNxX5OCDIQ09",
        "outputId": "b0751ba2-5a4c-4c7d-9d76-685b8c330291"
      },
      "execution_count": 3,
      "outputs": [
        {
          "output_type": "stream",
          "name": "stdout",
          "text": [
            "hehehehhe\n"
          ]
        }
      ]
    },
    {
      "cell_type": "code",
      "source": [
        "print(\"heheheh\"+\"\\n   shut up\")"
      ],
      "metadata": {
        "colab": {
          "base_uri": "https://localhost:8080/"
        },
        "id": "0v63zgDTIUZt",
        "outputId": "65be2fe1-e32d-4b77-b577-3ddbc6eb6531"
      },
      "execution_count": 6,
      "outputs": [
        {
          "output_type": "stream",
          "name": "stdout",
          "text": [
            "heheheh\n",
            "   shut up\n"
          ]
        }
      ]
    },
    {
      "cell_type": "code",
      "source": [
        "print(45**45)"
      ],
      "metadata": {
        "colab": {
          "base_uri": "https://localhost:8080/"
        },
        "id": "1s8RndVxIfjl",
        "outputId": "761728d4-88c3-414a-f597-950a37f8e42b"
      },
      "execution_count": 8,
      "outputs": [
        {
          "output_type": "stream",
          "name": "stdout",
          "text": [
            "248063644451341145494649182395412689744530581492654164321720600128173828125\n"
          ]
        }
      ]
    },
    {
      "cell_type": "code",
      "source": [
        "print(34//2)"
      ],
      "metadata": {
        "colab": {
          "base_uri": "https://localhost:8080/"
        },
        "id": "Zaz-ueWwIyF0",
        "outputId": "fbb443bd-b3b0-4a84-eaf9-246e1dde1252"
      },
      "execution_count": 9,
      "outputs": [
        {
          "output_type": "stream",
          "name": "stdout",
          "text": [
            "17\n"
          ]
        }
      ]
    },
    {
      "cell_type": "code",
      "source": [
        "print(10+12)\n",
        "print(\"alpha\" + \"batically\")\n",
        "print(12*13)\n",
        "print(12**13)\n",
        "print(123/12)"
      ],
      "metadata": {
        "colab": {
          "base_uri": "https://localhost:8080/"
        },
        "id": "-_44gm3eI9or",
        "outputId": "5df17ab9-f012-4abd-ba23-b2c5fe47f10e"
      },
      "execution_count": 12,
      "outputs": [
        {
          "output_type": "stream",
          "name": "stdout",
          "text": [
            "22\n",
            "alphabatically\n",
            "156\n",
            "106993205379072\n",
            "10.25\n"
          ]
        }
      ]
    },
    {
      "cell_type": "code",
      "source": [
        "'''calculate the force for the given data\n",
        "  mass 10 kg\n",
        "  aceleration due to gravity 9.8 m/s^2\n",
        "  force = mass * aceleration\n",
        "'''\n",
        "mass = 10 # mass of the body\n",
        "acctn = 9.8 # acceleration due to gravity\n",
        "force = mass * acctn # calculate the force from the above data\n",
        "print(\"Force due to gravity on the mass of 10 kg is\",force, \"N\")\n"
      ],
      "metadata": {
        "colab": {
          "base_uri": "https://localhost:8080/"
        },
        "id": "WJyjLOmFJO0r",
        "outputId": "ee55472b-1a1c-4b6a-a35d-fb365dabfb8d"
      },
      "execution_count": 15,
      "outputs": [
        {
          "output_type": "stream",
          "name": "stdout",
          "text": [
            "Force due to gravity on the mass of 10 kg is 98.0 N\n"
          ]
        }
      ]
    },
    {
      "cell_type": "code",
      "source": [
        "'''\n",
        "  comparing the values of velocity\n",
        "'''\n",
        "velocity1 = 25 #m/s\n",
        "velocity2 = 30 #m/s\n",
        "\n",
        "# use of boolean to compare the velocities in print statement\n",
        "print (\" is velocity1 is less than velocity2 \\n\", velocity1<velocity2)\n",
        "print (\" is velocity1 is greater than velocity2 \\n\", velocity1>velocity2)\n",
        "print (\" is velocity1 is equal to velocity2 \\n\", velocity1==velocity2)\n"
      ],
      "metadata": {
        "colab": {
          "base_uri": "https://localhost:8080/"
        },
        "id": "O18ooO17KXa4",
        "outputId": "efd8425c-4c6f-4f38-f183-aba909cba9c1"
      },
      "execution_count": 17,
      "outputs": [
        {
          "output_type": "stream",
          "name": "stdout",
          "text": [
            " is velocity1 is less than velocity2 \n",
            " True\n",
            " is velocity1 is greater than velocity2 \n",
            " False\n",
            " is velocity1 is equal to velocity2 \n",
            " False\n"
          ]
        }
      ]
    },
    {
      "cell_type": "code",
      "source": [
        "'''\n",
        "use of booleans to compare the masses\n",
        "'''\n",
        "\n",
        "# defining variables\n",
        "mass_a = 10 # in Kg\n",
        "mass_b = 5 # in Kg\n",
        "\n",
        "# using the same method as of prev cell\n",
        "print (\" is mass_a is less or equal than mass_b \\n\", mass_a<=mass_b)\n",
        "print (\" is mass_a is greater than mass_b \\n\", mass_a>mass_b)"
      ],
      "metadata": {
        "colab": {
          "base_uri": "https://localhost:8080/"
        },
        "id": "qUg-c3ePLP6m",
        "outputId": "872801ea-36a8-48ac-cfd2-8fbe90229831"
      },
      "execution_count": 19,
      "outputs": [
        {
          "output_type": "stream",
          "name": "stdout",
          "text": [
            " is mass_a is less or equal than mass_b \n",
            " False\n",
            " is mass_a is greater than mass_b \n",
            " True\n"
          ]
        }
      ]
    },
    {
      "cell_type": "code",
      "source": [
        "'''\n",
        "use the \"OR\" boolean to compare the salaries of the people\n",
        "'''\n",
        "\n",
        "#defining salary variables\n",
        "salary_a = 5000 # per month\n",
        "salary_b = 55000 # per month\n",
        "\n",
        "# print statements as per prev cell\n",
        "print(\"compare the salaries using 40000 as comaparison limit\")\n",
        "print(salary_a>40000 or salary_b>40000)\n",
        "print(salary_a>40000 or salary_b>40000)\n",
        "print(salary_a==40000 or salary_b>40000)\n",
        "print(salary_a<40000 or salary_b==40000)\n"
      ],
      "metadata": {
        "colab": {
          "base_uri": "https://localhost:8080/"
        },
        "id": "M-6h9DyRMCUU",
        "outputId": "e13560eb-ba38-4527-bcc0-dd23f01d6a17"
      },
      "execution_count": 21,
      "outputs": [
        {
          "output_type": "stream",
          "name": "stdout",
          "text": [
            "compare the salaries using 40000 as comaparison limit\n",
            "True\n",
            "True\n",
            "True\n",
            "True\n"
          ]
        }
      ]
    },
    {
      "cell_type": "code",
      "source": [
        "'''\n",
        "  use the above condtions using \"AND\" boolean\n",
        "'''\n",
        "\n",
        "#defining salary variables\n",
        "salary_a = 5000 # per month\n",
        "salary_b = 55000 # per month\n",
        "\n",
        "# print statements as per prev cell\n",
        "print(\"compare the salaries using 40000 as comaparison limit\")\n",
        "print(salary_a>40000 and salary_b>40000)\n",
        "print(salary_a>40000 and salary_b>40000)\n",
        "print(salary_a==40000 and salary_b>40000)\n",
        "print(salary_a<40000 and salary_b==40000)"
      ],
      "metadata": {
        "colab": {
          "base_uri": "https://localhost:8080/"
        },
        "id": "pV6tBTCmNe0h",
        "outputId": "5b664359-6fc0-4dfd-dfdb-6ee1de99af4a"
      },
      "execution_count": 22,
      "outputs": [
        {
          "output_type": "stream",
          "name": "stdout",
          "text": [
            "compare the salaries using 40000 as comaparison limit\n",
            "False\n",
            "False\n",
            "False\n",
            "False\n"
          ]
        }
      ]
    },
    {
      "cell_type": "code",
      "source": [],
      "metadata": {
        "id": "2OrEV4KeOAcH"
      },
      "execution_count": null,
      "outputs": []
    }
  ]
}