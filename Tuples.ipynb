{
  "nbformat": 4,
  "nbformat_minor": 0,
  "metadata": {
    "colab": {
      "provenance": [],
      "authorship_tag": "ABX9TyMi4q8cg7JRb30Q64/CeHAo",
      "include_colab_link": true
    },
    "kernelspec": {
      "name": "python3",
      "display_name": "Python 3"
    },
    "language_info": {
      "name": "python"
    }
  },
  "cells": [
    {
      "cell_type": "markdown",
      "metadata": {
        "id": "view-in-github",
        "colab_type": "text"
      },
      "source": [
        "<a href=\"https://colab.research.google.com/github/adityaksharma181/ML_course_MNIT/blob/main/Tuples.ipynb\" target=\"_parent\"><img src=\"https://colab.research.google.com/assets/colab-badge.svg\" alt=\"Open In Colab\"/></a>"
      ]
    },
    {
      "cell_type": "code",
      "execution_count": 1,
      "metadata": {
        "colab": {
          "base_uri": "https://localhost:8080/",
          "height": 35
        },
        "id": "tutdxw4RQvQx",
        "outputId": "37011f71-918f-4fb5-d623-89413487672e"
      },
      "outputs": [
        {
          "output_type": "execute_result",
          "data": {
            "text/plain": [
              "' Tuples are same as list but cannot be editable once declared'"
            ],
            "application/vnd.google.colaboratory.intrinsic+json": {
              "type": "string"
            }
          },
          "metadata": {},
          "execution_count": 1
        }
      ],
      "source": [
        "''' Tuples are same as list but cannot be editable once declared'''"
      ]
    },
    {
      "cell_type": "code",
      "source": [
        "#define tuples\n",
        "tup = (1,2,3)\n",
        "print(tup)\n",
        "print(type(tup))\n",
        "print()"
      ],
      "metadata": {
        "colab": {
          "base_uri": "https://localhost:8080/"
        },
        "id": "2U34dbLlRC-c",
        "outputId": "e677760f-7c0e-4828-e566-41bf67b811d8"
      },
      "execution_count": 2,
      "outputs": [
        {
          "output_type": "stream",
          "name": "stdout",
          "text": [
            "(1, 2, 3)\n",
            "<class 'tuple'>\n"
          ]
        }
      ]
    },
    {
      "cell_type": "code",
      "source": [
        "# conversion of list to tuples and vice-a-versa\n",
        "tup =(1,2,3,\"hello\")\n",
        "print(tup,type(tup))\n",
        "lis = list(tup) # convert to list\n",
        "print(lis, type(lis))\n",
        "lis.append(7) # adding values to list\n",
        "print(lis,type(lis))\n",
        "tup1 = tuple(lis)\n",
        "print(tup1, type(tup1))"
      ],
      "metadata": {
        "colab": {
          "base_uri": "https://localhost:8080/"
        },
        "id": "VoqTF1YoRZhi",
        "outputId": "d27c3065-609e-45ad-e597-e80c694cc6df"
      },
      "execution_count": 4,
      "outputs": [
        {
          "output_type": "stream",
          "name": "stdout",
          "text": [
            "(1, 2, 3, 'hello') <class 'tuple'>\n",
            "[1, 2, 3, 'hello'] <class 'list'>\n",
            "[1, 2, 3, 'hello', 7] <class 'list'>\n",
            "(1, 2, 3, 'hello', 7) <class 'tuple'>\n"
          ]
        }
      ]
    },
    {
      "cell_type": "code",
      "source": [],
      "metadata": {
        "id": "YErXT8ohSYZy"
      },
      "execution_count": null,
      "outputs": []
    }
  ]
}