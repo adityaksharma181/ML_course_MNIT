{
  "nbformat": 4,
  "nbformat_minor": 0,
  "metadata": {
    "colab": {
      "provenance": [],
      "authorship_tag": "ABX9TyNcrmM55Av/KnAvwG/9CLF0",
      "include_colab_link": true
    },
    "kernelspec": {
      "name": "python3",
      "display_name": "Python 3"
    },
    "language_info": {
      "name": "python"
    }
  },
  "cells": [
    {
      "cell_type": "markdown",
      "metadata": {
        "id": "view-in-github",
        "colab_type": "text"
      },
      "source": [
        "<a href=\"https://colab.research.google.com/github/adityaksharma181/ML_course_MNIT/blob/main/lists.ipynb\" target=\"_parent\"><img src=\"https://colab.research.google.com/assets/colab-badge.svg\" alt=\"Open In Colab\"/></a>"
      ]
    },
    {
      "cell_type": "code",
      "execution_count": null,
      "metadata": {
        "id": "sTPwhgljYHhZ"
      },
      "outputs": [],
      "source": [
        "'''\n",
        "create the list\n",
        "'''"
      ]
    },
    {
      "cell_type": "code",
      "source": [
        "'''\n",
        "list is defined by [ ] brackets\n",
        "'''\n",
        "\n",
        "numbers = [1,2,3,4,5,6,7,8,9]\n",
        "print(numbers)"
      ],
      "metadata": {
        "colab": {
          "base_uri": "https://localhost:8080/"
        },
        "id": "XFDUDD2GYNeh",
        "outputId": "fe77b73a-d2f3-4c0e-dad8-66ff8237d786"
      },
      "execution_count": 1,
      "outputs": [
        {
          "output_type": "stream",
          "name": "stdout",
          "text": [
            "[1, 2, 3, 4, 5, 6, 7, 8, 9]\n"
          ]
        }
      ]
    },
    {
      "cell_type": "code",
      "source": [
        "'''\n",
        "list can contain different types of datatypes\n",
        "'''\n",
        "\n",
        "mixed = [1,2,3,\"Rohan\",True]\n",
        "print(mixed)"
      ],
      "metadata": {
        "colab": {
          "base_uri": "https://localhost:8080/",
          "height": 106
        },
        "id": "76cptNmSYgJ_",
        "outputId": "746abf3b-7b19-42a9-872c-fbffd54b5852"
      },
      "execution_count": 5,
      "outputs": [
        {
          "output_type": "error",
          "ename": "SyntaxError",
          "evalue": "invalid syntax (ipython-input-1404538840.py, line 5)",
          "traceback": [
            "\u001b[0;36m  File \u001b[0;32m\"/tmp/ipython-input-1404538840.py\"\u001b[0;36m, line \u001b[0;32m5\u001b[0m\n\u001b[0;31m    mixed = [1,2,3,\"Rohan\",True, and]\u001b[0m\n\u001b[0m                                 ^\u001b[0m\n\u001b[0;31mSyntaxError\u001b[0m\u001b[0;31m:\u001b[0m invalid syntax\n"
          ]
        }
      ]
    },
    {
      "cell_type": "code",
      "source": [
        "'''\n",
        "crearing empty list\n",
        "'''\n",
        "empty = []\n",
        "print(empty)\n"
      ],
      "metadata": {
        "colab": {
          "base_uri": "https://localhost:8080/"
        },
        "id": "9GmoPizwY19e",
        "outputId": "c2288239-068f-4d12-9710-0aa132995cbb"
      },
      "execution_count": 6,
      "outputs": [
        {
          "output_type": "stream",
          "name": "stdout",
          "text": [
            "[]\n"
          ]
        }
      ]
    },
    {
      "cell_type": "code",
      "source": [
        "'''\n",
        "print specific element from the list\n",
        "the index of the list starts from zero\n",
        "for nth element the index is n-1\n",
        "'''\n",
        "fruits = [\"banana\", \"apple\", \"orange\", \"grapes\"]\n",
        "print(fruits[0])\n",
        "print(fruits[2])\n",
        "print(fruits[-1]) # negative indec gives the values from last"
      ],
      "metadata": {
        "colab": {
          "base_uri": "https://localhost:8080/"
        },
        "id": "QV3TejGmZUDt",
        "outputId": "b85a282a-3ba3-455b-82c5-81af9cb96ee7"
      },
      "execution_count": 10,
      "outputs": [
        {
          "output_type": "stream",
          "name": "stdout",
          "text": [
            "banana\n",
            "orange\n",
            "grapes\n"
          ]
        }
      ]
    },
    {
      "cell_type": "code",
      "source": [
        "'''\n",
        "modifying the"
      ],
      "metadata": {
        "id": "nr2uiQkaZxmo"
      },
      "execution_count": null,
      "outputs": []
    }
  ]
}