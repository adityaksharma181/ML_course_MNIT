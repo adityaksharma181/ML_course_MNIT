{
  "nbformat": 4,
  "nbformat_minor": 0,
  "metadata": {
    "colab": {
      "provenance": [],
      "authorship_tag": "ABX9TyOwiCFbA0PwEF/sOMwlOT8N",
      "include_colab_link": true
    },
    "kernelspec": {
      "name": "python3",
      "display_name": "Python 3"
    },
    "language_info": {
      "name": "python"
    }
  },
  "cells": [
    {
      "cell_type": "markdown",
      "metadata": {
        "id": "view-in-github",
        "colab_type": "text"
      },
      "source": [
        "<a href=\"https://colab.research.google.com/github/adityaksharma181/ML_course_MNIT/blob/main/input_and_output.ipynb\" target=\"_parent\"><img src=\"https://colab.research.google.com/assets/colab-badge.svg\" alt=\"Open In Colab\"/></a>"
      ]
    },
    {
      "cell_type": "code",
      "execution_count": 1,
      "metadata": {
        "colab": {
          "base_uri": "https://localhost:8080/"
        },
        "id": "Au38YlDNSPfc",
        "outputId": "88999b4a-4adc-4980-9600-138de5e19eac"
      },
      "outputs": [
        {
          "output_type": "stream",
          "name": "stdout",
          "text": [
            "your name is: ''' calculate potential energy from the input data use potentail energy = mass*accleration*height ''' mass = float(input(\"mass: \")) accln = 9.8 # accleration due to gravity height = int(input(\"height of the mass: \"))  # energy of the mass at height  PE = mass*accln*height print(\"Potential energy of the \",mass,\"at height \",height,\"is \",PE,\"J\")\n",
            "your name is:  ''' calculate potential energy from the input data use potentail energy = mass*accleration*height ''' mass = float(input(\"mass: \")) accln = 9.8 # accleration due to gravity height = int(input(\"height of the mass: \"))  # energy of the mass at height  PE = mass*accln*height print(\"Potential energy of the \",mass,\"at height \",height,\"is \",PE,\"J\")\n"
          ]
        }
      ],
      "source": [
        "'''\n",
        "use the \"input\" function and display the output\n",
        "'''\n",
        "name = input(\"your name is: \")\n",
        "print(\"your name is: \", name)"
      ]
    },
    {
      "cell_type": "code",
      "source": [
        "'''\n",
        "calculate potential energy from the input data\n",
        "use potentail energy = mass*accleration*height\n",
        "'''\n",
        "mass = float(input(\"mass: \"))\n",
        "accln = 9.8 # accleration due to gravity\n",
        "height = int(input(\"height of the mass: \"))\n",
        "\n",
        "# energy of the mass at height\n",
        "PE = mass*accln*height\n",
        "print(\"Potential energy of the \",mass,\"at height \",height,\"is \",PE,\"J\")\n"
      ],
      "metadata": {
        "colab": {
          "base_uri": "https://localhost:8080/"
        },
        "id": "kSUpn6rmSQoH",
        "outputId": "14aba751-6bea-4206-9bfa-bb5e1c90018c"
      },
      "execution_count": 2,
      "outputs": [
        {
          "output_type": "stream",
          "name": "stdout",
          "text": [
            "mass: 324\n",
            "height of the mass: 5\n",
            "Potential energy of the  324.0 at height  5 is  15876.000000000002 J\n"
          ]
        }
      ]
    },
    {
      "cell_type": "code",
      "source": [
        "'''\n",
        "use of variable in inverted commas in print statement\n",
        "'''\n",
        "age = 25\n",
        "print(\"I am \", age, \"years old\")\n",
        "print(f\"I will be { age +1} next year\")"
      ],
      "metadata": {
        "colab": {
          "base_uri": "https://localhost:8080/"
        },
        "id": "t6zUAJKQSUJF",
        "outputId": "59eca6fd-0b85-412b-ce07-23ac637da878"
      },
      "execution_count": 4,
      "outputs": [
        {
          "output_type": "stream",
          "name": "stdout",
          "text": [
            "I am  25 years old\n",
            "I will be 26 next year\n"
          ]
        }
      ]
    },
    {
      "cell_type": "code",
      "source": [],
      "metadata": {
        "id": "0Q4sXJ0xS2eU"
      },
      "execution_count": null,
      "outputs": []
    }
  ]
}