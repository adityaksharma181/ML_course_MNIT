{
  "nbformat": 4,
  "nbformat_minor": 0,
  "metadata": {
    "colab": {
      "provenance": [],
      "authorship_tag": "ABX9TyNLAk3WpLRW7D5BzLRxycsV",
      "include_colab_link": true
    },
    "kernelspec": {
      "name": "python3",
      "display_name": "Python 3"
    },
    "language_info": {
      "name": "python"
    }
  },
  "cells": [
    {
      "cell_type": "markdown",
      "metadata": {
        "id": "view-in-github",
        "colab_type": "text"
      },
      "source": [
        "<a href=\"https://colab.research.google.com/github/adityaksharma181/ML_course_MNIT/blob/main/dictionary.ipynb\" target=\"_parent\"><img src=\"https://colab.research.google.com/assets/colab-badge.svg\" alt=\"Open In Colab\"/></a>"
      ]
    },
    {
      "cell_type": "code",
      "execution_count": 2,
      "metadata": {
        "colab": {
          "base_uri": "https://localhost:8080/",
          "height": 35
        },
        "id": "g6iBMpNBYPvX",
        "outputId": "4f47fe20-8647-4326-ce4a-599b6ab20541"
      },
      "outputs": [
        {
          "output_type": "execute_result",
          "data": {
            "text/plain": [
              "'\\n  dictionary is the collection of keyvalue pairs\\n  we can use key values to access the associated element with it\\n'"
            ],
            "application/vnd.google.colaboratory.intrinsic+json": {
              "type": "string"
            }
          },
          "metadata": {},
          "execution_count": 2
        }
      ],
      "source": [
        "'''\n",
        "  dictionary is the collection of keyvalue pairs\n",
        "  we can use key values to access the associated element with it\n",
        "'''\n"
      ]
    },
    {
      "cell_type": "code",
      "source": [
        "student = {\n",
        "    \"name\" : \"aditya\",\n",
        "    \"class\" : 10,\n",
        "    \"marks\" : 100\n",
        "}\n",
        "print(student)\n",
        "print(student[\"name\"])\n",
        "print(student.get(\"class\"))"
      ],
      "metadata": {
        "colab": {
          "base_uri": "https://localhost:8080/"
        },
        "id": "ENGHROaOYY_T",
        "outputId": "feac40b4-2dc1-4594-d3ec-d86d06ae1599"
      },
      "execution_count": 14,
      "outputs": [
        {
          "output_type": "stream",
          "name": "stdout",
          "text": [
            "{'name': 'aditya', 'class': 10, 'marks': 100}\n",
            "aditya\n",
            "10\n"
          ]
        }
      ]
    },
    {
      "cell_type": "code",
      "source": [
        "# dictionary in tuples\n",
        "tup0 = (12)\n",
        "tup1 = (34)\n",
        "dictionary_tup = {\n",
        "    \"tup0\" : tup0,\n",
        "    \"tup1\" : tup1\n",
        "}\n",
        "print(dictionary_tup)"
      ],
      "metadata": {
        "colab": {
          "base_uri": "https://localhost:8080/"
        },
        "id": "a2TQJdwWY0gI",
        "outputId": "6d82cd6e-b49b-4cf9-a55c-3a50d4f27073"
      },
      "execution_count": 16,
      "outputs": [
        {
          "output_type": "stream",
          "name": "stdout",
          "text": [
            "{'tup0': 12, 'tup1': 34}\n"
          ]
        }
      ]
    },
    {
      "cell_type": "code",
      "source": [
        "# tuples and list in dictionary\n",
        "list0 = [1,2,3]\n",
        "tup0 = (4,5,6)\n",
        "dixnry = {\n",
        "    \"list0\" : list0,\n",
        "    \"tup0\" : tup0\n",
        "}\n",
        "print(dixnry)\n",
        "list0.append(89)\n",
        "print(dixnry)"
      ],
      "metadata": {
        "colab": {
          "base_uri": "https://localhost:8080/"
        },
        "id": "6LPePkRraLV1",
        "outputId": "386351e4-ac3e-46f2-d477-9bf17936ecd6"
      },
      "execution_count": 19,
      "outputs": [
        {
          "output_type": "stream",
          "name": "stdout",
          "text": [
            "{'list0': [1, 2, 3], 'tup0': (4, 5, 6)}\n",
            "{'list0': [1, 2, 3, 89], 'tup0': (4, 5, 6)}\n"
          ]
        }
      ]
    },
    {
      "cell_type": "code",
      "source": [],
      "metadata": {
        "id": "N6CyY3AWauZk"
      },
      "execution_count": null,
      "outputs": []
    }
  ]
}