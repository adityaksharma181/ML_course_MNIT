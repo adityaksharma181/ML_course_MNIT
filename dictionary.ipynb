{
  "nbformat": 4,
  "nbformat_minor": 0,
  "metadata": {
    "colab": {
      "provenance": [],
      "authorship_tag": "ABX9TyMm/v7aFS07vGSIZ+0Mnig2",
      "include_colab_link": true
    },
    "kernelspec": {
      "name": "python3",
      "display_name": "Python 3"
    },
    "language_info": {
      "name": "python"
    }
  },
  "cells": [
    {
      "cell_type": "markdown",
      "metadata": {
        "id": "view-in-github",
        "colab_type": "text"
      },
      "source": [
        "<a href=\"https://colab.research.google.com/github/adityaksharma181/ML_course_MNIT/blob/main/dictionary.ipynb\" target=\"_parent\"><img src=\"https://colab.research.google.com/assets/colab-badge.svg\" alt=\"Open In Colab\"/></a>"
      ]
    },
    {
      "cell_type": "code",
      "execution_count": 2,
      "metadata": {
        "colab": {
          "base_uri": "https://localhost:8080/",
          "height": 35
        },
        "id": "g6iBMpNBYPvX",
        "outputId": "4f47fe20-8647-4326-ce4a-599b6ab20541"
      },
      "outputs": [
        {
          "output_type": "execute_result",
          "data": {
            "text/plain": [
              "'\\n  dictionary is the collection of keyvalue pairs\\n  we can use key values to access the associated element with it\\n'"
            ],
            "application/vnd.google.colaboratory.intrinsic+json": {
              "type": "string"
            }
          },
          "metadata": {},
          "execution_count": 2
        }
      ],
      "source": [
        "'''\n",
        "  dictionary is the collection of keyvalue pairs\n",
        "  we can use key values to access the associated element with it\n",
        "'''\n"
      ]
    },
    {
      "cell_type": "code",
      "source": [
        "student = {\n",
        "    \"name\" : \"aditya\",\n",
        "    \"class\" : 10,\n",
        "    \"marks\" : 100\n",
        "}\n",
        "print(student)\n",
        "print(student[\"name\"])\n",
        "print(student.get(\"class\"))"
      ],
      "metadata": {
        "colab": {
          "base_uri": "https://localhost:8080/"
        },
        "id": "ENGHROaOYY_T",
        "outputId": "feac40b4-2dc1-4594-d3ec-d86d06ae1599"
      },
      "execution_count": 14,
      "outputs": [
        {
          "output_type": "stream",
          "name": "stdout",
          "text": [
            "{'name': 'aditya', 'class': 10, 'marks': 100}\n",
            "aditya\n",
            "10\n"
          ]
        }
      ]
    },
    {
      "cell_type": "code",
      "source": [
        "# dictionary in tuples\n",
        "tup0 = (12)\n",
        "tup1 = (34)\n",
        "dictionary_tup = {\n",
        "    \"tup0\" : tup0,\n",
        "    \"tup1\" : tup1\n",
        "}\n",
        "print(dictionary_tup)"
      ],
      "metadata": {
        "colab": {
          "base_uri": "https://localhost:8080/"
        },
        "id": "a2TQJdwWY0gI",
        "outputId": "6d82cd6e-b49b-4cf9-a55c-3a50d4f27073"
      },
      "execution_count": 16,
      "outputs": [
        {
          "output_type": "stream",
          "name": "stdout",
          "text": [
            "{'tup0': 12, 'tup1': 34}\n"
          ]
        }
      ]
    },
    {
      "cell_type": "code",
      "source": [
        "# tuples and list in dictionary\n",
        "list0 = [1,2,3]\n",
        "tup0 = (4,5,6)\n",
        "dixnry = {\n",
        "    \"list0\" : list0,\n",
        "    \"tup0\" : tup0\n",
        "}\n",
        "print(dixnry)\n",
        "list0.append(89)\n",
        "print(dixnry)"
      ],
      "metadata": {
        "colab": {
          "base_uri": "https://localhost:8080/"
        },
        "id": "6LPePkRraLV1",
        "outputId": "386351e4-ac3e-46f2-d477-9bf17936ecd6"
      },
      "execution_count": 19,
      "outputs": [
        {
          "output_type": "stream",
          "name": "stdout",
          "text": [
            "{'list0': [1, 2, 3], 'tup0': (4, 5, 6)}\n",
            "{'list0': [1, 2, 3, 89], 'tup0': (4, 5, 6)}\n"
          ]
        }
      ]
    },
    {
      "cell_type": "code",
      "source": [
        "car_details = {\n",
        "    \"model\" : \"Baleno\",\n",
        "    \"brand\" : \"TATA\",\n",
        "    \"Year of Manufacture\" : \"2016\",\n",
        "    \"colors\" : (\"red\", \"green\", \"black\", \"white\", \"blue\")\n",
        "}\n",
        "print(car_details)\n",
        "print(f\"my friend owns {car_details['model']} which was manufatured in {car_details['Year of Manufacture']} has the color of {car_details['colors']}\")"
      ],
      "metadata": {
        "colab": {
          "base_uri": "https://localhost:8080/"
        },
        "id": "N6CyY3AWauZk",
        "outputId": "5361c055-f190-4d24-9aeb-35774ba01198"
      },
      "execution_count": 22,
      "outputs": [
        {
          "output_type": "stream",
          "name": "stdout",
          "text": [
            "{'model': 'Baleno', 'brand': 'TATA', 'Year of Manufacture': '2016', 'colors': ('red', 'green', 'black', 'white', 'blue')}\n",
            "my friend owns Baleno which was manufatured in 2016 has the color of ('red', 'green', 'black', 'white', 'blue')\n"
          ]
        }
      ]
    },
    {
      "cell_type": "code",
      "source": [
        "# dictionary in dictionary\n",
        "galaxies = {\n",
        "    \"gal0\" : \"milkyway\",\n",
        "    \"gal1\" : \"andromeda\"\n",
        "}\n",
        "\n",
        "stars = {\n",
        "    \"star0\" : \"sun\",\n",
        "    \"star1\" : \"polaris\",\n",
        "    \"star2\" : \"vega\"\n",
        "}\n",
        "\n",
        "universe = {\n",
        "    \"galaxies\" : \"galaxies\",\n",
        "    \"stars\" : \"stars\"\n",
        "}\n",
        "\n",
        "print(universe.get(\"galaxies\"))\n",
        "for key, value in universe.items():\n",
        "  print(f\"{key} : {value}\")\n",
        "  for key, values in galaxies.items():\n",
        "    print(f\"{key} : {values}\")\n",
        "  for key, values in stars.items():\n",
        "    print(f\"{key} : {values}\")"
      ],
      "metadata": {
        "colab": {
          "base_uri": "https://localhost:8080/"
        },
        "id": "yYenc2rebpcB",
        "outputId": "c9399cb7-3ac1-4bd9-8847-2222b964dba0"
      },
      "execution_count": 32,
      "outputs": [
        {
          "output_type": "stream",
          "name": "stdout",
          "text": [
            "galaxies\n",
            "galaxies : galaxies\n",
            "gal0 : milkyway\n",
            "gal1 : andromeda\n",
            "star0 : sun\n",
            "star1 : polaris\n",
            "star2 : vega\n",
            "stars : stars\n",
            "gal0 : milkyway\n",
            "gal1 : andromeda\n",
            "star0 : sun\n",
            "star1 : polaris\n",
            "star2 : vega\n"
          ]
        }
      ]
    },
    {
      "cell_type": "code",
      "source": [],
      "metadata": {
        "id": "ttsmh1PAe5aJ"
      },
      "execution_count": null,
      "outputs": []
    }
  ]
}